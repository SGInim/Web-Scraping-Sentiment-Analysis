{
 "cells": [
  {
   "cell_type": "markdown",
   "metadata": {},
   "source": [
    "# Sentiment Analysis Prediction\n",
    "\n",
    "## Table of Contents:\n",
    "* [0. Problem Description](#Problem)\n",
    "* [1. Exploratory Data Analysis (EDA)](#EDA)\n",
    "* [2. Feature Engineering](#Feat)\n",
    "  * [2.1. Correlation](#Corr)\n",
    "  * [2.2. NZV](#NZV)\n",
    "  * [2.3. Split Train & Test](#Split)\n",
    "  * [2.4. RFE](#RFE)\n",
    "  * [2.5. Standardization & PCA](#PCA)  \n",
    "* [3. Predictions](#Pred)"
   ]
  },
  {
   "cell_type": "markdown",
   "metadata": {},
   "source": [
    "# <a class=\"anchor\" id=\"Problem\"> 0. Problem Description </a>"
   ]
  },
  {
   "cell_type": "markdown",
   "metadata": {},
   "source": [
    "The idea behind this project is to scrap the web to extract pages containing previously chosen words related to sentiment or feeling about a certain phone, so that we could provide an answer of the type ‘brand X is preferred among people at this moment’.\n",
    "\n",
    "An NGO called Common Crawl, collects all the internet’s webpages (billions) created each month, once a month. I used this service to download last month’s data (only the data that matched our conditions)."
   ]
  },
  {
   "cell_type": "code",
   "execution_count": 1,
   "metadata": {},
   "outputs": [],
   "source": [
    "# Libraries\n",
    "import pandas as pd\n",
    "from pandas import DataFrame\n",
    "import numpy as np\n",
    "import matplotlib\n",
    "import matplotlib.pyplot as plt\n",
    "import math\n",
    "import random\n",
    "import plotly.express as px\n",
    "\n",
    "# PCA\n",
    "from sklearn.decomposition import PCA\n",
    "from sklearn import preprocessing\n",
    "\n",
    "# RFE & MODELLING\n",
    "from sklearn.preprocessing import MinMaxScaler #Standardization\n",
    "from sklearn.feature_selection import VarianceThreshold #NZV\n",
    "from sklearn.datasets import make_friedman1\n",
    "from sklearn.feature_selection import RFE\n",
    "from sklearn.svm import SVR\n",
    "from sklearn.svm import LinearSVC\n",
    "from sklearn.ensemble import RandomForestClassifier\n",
    "from sklearn.model_selection import cross_val_score\n",
    "from sklearn.metrics import cohen_kappa_score\n",
    "from sklearn.metrics import accuracy_score\n",
    "from sklearn.metrics import classification_report, confusion_matrix\n",
    "\n",
    "#Cross Validation\n",
    "from sklearn.model_selection import train_test_split\n",
    "from math import sqrt"
   ]
  },
  {
   "cell_type": "code",
   "execution_count": 2,
   "metadata": {},
   "outputs": [],
   "source": [
    "# Load Datasets\n",
    "random.seed(203)\n",
    "import os\n",
    "os.getcwd()\n",
    "os.chdir('/home/s/Desktop/Dropbox/Documents/Python/Mod4 Ubiqum/Datasets')\n",
    "\n",
    "galaxy = pd.read_csv('galaxy_smallmatrix_labeled_9d.csv')\n",
    "iphone = pd.read_csv('iphone_smallmatrix_labeled_8d.csv')\n",
    "\n",
    "iphone[\"iphonesentiment\"] = iphone[\"iphonesentiment\"].replace(0,1)\n",
    "iphone[\"iphonesentiment\"] = iphone[\"iphonesentiment\"].replace(5,4)"
   ]
  },
  {
   "cell_type": "markdown",
   "metadata": {},
   "source": [
    "# <a class=\"anchor\" id=\"EDA\"> 1. Exploratory Data Analysis </a>"
   ]
  },
  {
   "cell_type": "code",
   "execution_count": 3,
   "metadata": {},
   "outputs": [
    {
     "name": "stdout",
     "output_type": "stream",
     "text": [
      "(12911, 59)\n",
      "(12973, 59)\n"
     ]
    }
   ],
   "source": [
    "print(galaxy.shape)\n",
    "print(iphone.shape)"
   ]
  },
  {
   "cell_type": "code",
   "execution_count": 4,
   "metadata": {},
   "outputs": [
    {
     "data": {
      "text/html": [
       "<div>\n",
       "<style scoped>\n",
       "    .dataframe tbody tr th:only-of-type {\n",
       "        vertical-align: middle;\n",
       "    }\n",
       "\n",
       "    .dataframe tbody tr th {\n",
       "        vertical-align: top;\n",
       "    }\n",
       "\n",
       "    .dataframe thead th {\n",
       "        text-align: right;\n",
       "    }\n",
       "</style>\n",
       "<table border=\"1\" class=\"dataframe\">\n",
       "  <thead>\n",
       "    <tr style=\"text-align: right;\">\n",
       "      <th></th>\n",
       "      <th>iphone</th>\n",
       "      <th>samsunggalaxy</th>\n",
       "      <th>sonyxperia</th>\n",
       "      <th>nokialumina</th>\n",
       "      <th>htcphone</th>\n",
       "      <th>ios</th>\n",
       "      <th>googleandroid</th>\n",
       "      <th>iphonecampos</th>\n",
       "      <th>samsungcampos</th>\n",
       "      <th>sonycampos</th>\n",
       "      <th>...</th>\n",
       "      <th>sonyperunc</th>\n",
       "      <th>nokiaperunc</th>\n",
       "      <th>htcperunc</th>\n",
       "      <th>iosperpos</th>\n",
       "      <th>googleperpos</th>\n",
       "      <th>iosperneg</th>\n",
       "      <th>googleperneg</th>\n",
       "      <th>iosperunc</th>\n",
       "      <th>googleperunc</th>\n",
       "      <th>iphonesentiment</th>\n",
       "    </tr>\n",
       "  </thead>\n",
       "  <tbody>\n",
       "    <tr>\n",
       "      <th>0</th>\n",
       "      <td>1</td>\n",
       "      <td>0</td>\n",
       "      <td>0</td>\n",
       "      <td>0</td>\n",
       "      <td>0</td>\n",
       "      <td>0</td>\n",
       "      <td>0</td>\n",
       "      <td>0</td>\n",
       "      <td>0</td>\n",
       "      <td>0</td>\n",
       "      <td>...</td>\n",
       "      <td>0</td>\n",
       "      <td>0</td>\n",
       "      <td>0</td>\n",
       "      <td>0</td>\n",
       "      <td>0</td>\n",
       "      <td>0</td>\n",
       "      <td>0</td>\n",
       "      <td>0</td>\n",
       "      <td>0</td>\n",
       "      <td>1</td>\n",
       "    </tr>\n",
       "    <tr>\n",
       "      <th>1</th>\n",
       "      <td>1</td>\n",
       "      <td>0</td>\n",
       "      <td>0</td>\n",
       "      <td>0</td>\n",
       "      <td>0</td>\n",
       "      <td>0</td>\n",
       "      <td>0</td>\n",
       "      <td>0</td>\n",
       "      <td>0</td>\n",
       "      <td>0</td>\n",
       "      <td>...</td>\n",
       "      <td>0</td>\n",
       "      <td>0</td>\n",
       "      <td>0</td>\n",
       "      <td>0</td>\n",
       "      <td>0</td>\n",
       "      <td>0</td>\n",
       "      <td>0</td>\n",
       "      <td>0</td>\n",
       "      <td>0</td>\n",
       "      <td>1</td>\n",
       "    </tr>\n",
       "    <tr>\n",
       "      <th>2</th>\n",
       "      <td>1</td>\n",
       "      <td>0</td>\n",
       "      <td>0</td>\n",
       "      <td>0</td>\n",
       "      <td>0</td>\n",
       "      <td>0</td>\n",
       "      <td>0</td>\n",
       "      <td>0</td>\n",
       "      <td>0</td>\n",
       "      <td>0</td>\n",
       "      <td>...</td>\n",
       "      <td>0</td>\n",
       "      <td>0</td>\n",
       "      <td>0</td>\n",
       "      <td>0</td>\n",
       "      <td>0</td>\n",
       "      <td>0</td>\n",
       "      <td>0</td>\n",
       "      <td>0</td>\n",
       "      <td>0</td>\n",
       "      <td>1</td>\n",
       "    </tr>\n",
       "    <tr>\n",
       "      <th>3</th>\n",
       "      <td>1</td>\n",
       "      <td>0</td>\n",
       "      <td>0</td>\n",
       "      <td>0</td>\n",
       "      <td>0</td>\n",
       "      <td>0</td>\n",
       "      <td>0</td>\n",
       "      <td>0</td>\n",
       "      <td>0</td>\n",
       "      <td>0</td>\n",
       "      <td>...</td>\n",
       "      <td>0</td>\n",
       "      <td>0</td>\n",
       "      <td>0</td>\n",
       "      <td>0</td>\n",
       "      <td>0</td>\n",
       "      <td>0</td>\n",
       "      <td>0</td>\n",
       "      <td>0</td>\n",
       "      <td>0</td>\n",
       "      <td>1</td>\n",
       "    </tr>\n",
       "    <tr>\n",
       "      <th>4</th>\n",
       "      <td>1</td>\n",
       "      <td>0</td>\n",
       "      <td>0</td>\n",
       "      <td>0</td>\n",
       "      <td>0</td>\n",
       "      <td>0</td>\n",
       "      <td>0</td>\n",
       "      <td>0</td>\n",
       "      <td>0</td>\n",
       "      <td>0</td>\n",
       "      <td>...</td>\n",
       "      <td>0</td>\n",
       "      <td>0</td>\n",
       "      <td>0</td>\n",
       "      <td>0</td>\n",
       "      <td>0</td>\n",
       "      <td>0</td>\n",
       "      <td>0</td>\n",
       "      <td>0</td>\n",
       "      <td>0</td>\n",
       "      <td>1</td>\n",
       "    </tr>\n",
       "  </tbody>\n",
       "</table>\n",
       "<p>5 rows × 59 columns</p>\n",
       "</div>"
      ],
      "text/plain": [
       "   iphone  samsunggalaxy  sonyxperia  nokialumina  htcphone  ios  \\\n",
       "0       1              0           0            0         0    0   \n",
       "1       1              0           0            0         0    0   \n",
       "2       1              0           0            0         0    0   \n",
       "3       1              0           0            0         0    0   \n",
       "4       1              0           0            0         0    0   \n",
       "\n",
       "   googleandroid  iphonecampos  samsungcampos  sonycampos  ...  sonyperunc  \\\n",
       "0              0             0              0           0  ...           0   \n",
       "1              0             0              0           0  ...           0   \n",
       "2              0             0              0           0  ...           0   \n",
       "3              0             0              0           0  ...           0   \n",
       "4              0             0              0           0  ...           0   \n",
       "\n",
       "   nokiaperunc  htcperunc  iosperpos  googleperpos  iosperneg  googleperneg  \\\n",
       "0            0          0          0             0          0             0   \n",
       "1            0          0          0             0          0             0   \n",
       "2            0          0          0             0          0             0   \n",
       "3            0          0          0             0          0             0   \n",
       "4            0          0          0             0          0             0   \n",
       "\n",
       "   iosperunc  googleperunc  iphonesentiment  \n",
       "0          0             0                1  \n",
       "1          0             0                1  \n",
       "2          0             0                1  \n",
       "3          0             0                1  \n",
       "4          0             0                1  \n",
       "\n",
       "[5 rows x 59 columns]"
      ]
     },
     "execution_count": 4,
     "metadata": {},
     "output_type": "execute_result"
    }
   ],
   "source": [
    "iphone.head()"
   ]
  },
  {
   "cell_type": "code",
   "execution_count": 5,
   "metadata": {},
   "outputs": [
    {
     "name": "stdout",
     "output_type": "stream",
     "text": [
      "27867\n",
      "923\n",
      "312\n",
      "30\n",
      "1779\n"
     ]
    }
   ],
   "source": [
    "print(sum(iphone.iloc[:,0])) #iPhone:  28525\n",
    "print(sum(iphone.iloc[:,1])) #SGalaxy: 921\n",
    "print(sum(iphone.iloc[:,2])) #SXperia: 311\n",
    "print(sum(iphone.iloc[:,3])) #NokiaAlumina: 30\n",
    "print(sum(iphone.iloc[:,4])) #HTCphone: 1775"
   ]
  },
  {
   "cell_type": "code",
   "execution_count": 6,
   "metadata": {},
   "outputs": [
    {
     "data": {
      "image/png": "[encoded data removed]",
      "text/plain": [
       "<Figure size 432x288 with 1 Axes>"
      ]
     },
     "metadata": {
      "needs_background": "light"
     },
     "output_type": "display_data"
    },
    {
     "data": {
      "image/png": "[encoded data removed]",
      "text/plain": [
       "<Figure size 432x288 with 1 Axes>"
      ]
     },
     "metadata": {
      "needs_background": "light"
     },
     "output_type": "display_data"
    }
   ],
   "source": [
    "plt.hist(galaxy['galaxysentiment'], bins=5)\n",
    "plt.title('SGalaxy')\n",
    "plt.show()\n",
    "plt.hist(iphone['iphonesentiment'], bins=5)\n",
    "plt.title('iPhone')\n",
    "plt.show()"
   ]
  },
  {
   "cell_type": "markdown",
   "metadata": {},
   "source": [
    "# <a class=\"anchor\" id=\"Feat\"> 2. Feature Engineering </a>"
   ]
  },
  {
   "cell_type": "markdown",
   "metadata": {},
   "source": [
    "## <a class=\"anchor\" id=\"Corr\"> 2.1. Correlation </a>"
   ]
  },
  {
   "cell_type": "code",
   "execution_count": 7,
   "metadata": {
    "scrolled": true
   },
   "outputs": [
    {
     "name": "stdout",
     "output_type": "stream",
     "text": [
      "['iphone', 'htcphone', 'nokiacamunc', 'nokiadisneg', 'nokiacampos', 'samsungdispos', 'nokiadispos', 'samsungdisneg', 'nokiadisunc', 'nokiaperunc', 'nokiaperpos', 'iosperunc', 'iosperpos', 'googleperpos']\n",
      "(12973, 45)\n"
     ]
    }
   ],
   "source": [
    "# Collinear columns WITHOUT any relationship to the dependant variable\n",
    "def find_correlation(df, thresh=0.9):\n",
    "   corrMatrix = iphone.corr()\n",
    "   corrMatrix.loc[:,:] =  np.tril(corrMatrix, k=-1)\n",
    "   already_in = set()\n",
    "   result = []\n",
    "   for col in corrMatrix:\n",
    "       perfect_corr = corrMatrix[col][corrMatrix[col] > thresh].index.tolist()\n",
    "       if perfect_corr and col not in already_in:\n",
    "           already_in.update(set(perfect_corr))\n",
    "           perfect_corr.append(col)\n",
    "           result.append(perfect_corr)\n",
    "   select_nested = [f[1:] for f in result]\n",
    "   select_flat = [i for j in select_nested for i in j]\n",
    "   return select_flat\n",
    "\n",
    "print(find_correlation(iphone, thresh=0.9))\n",
    "\n",
    "#Dropping collinear columns between themselves (from 59 to 44!)\n",
    "iphone = iphone.drop(columns=find_correlation(iphone, thresh=0.9))\n",
    "print(iphone.shape)"
   ]
  },
  {
   "cell_type": "code",
   "execution_count": 8,
   "metadata": {},
   "outputs": [
    {
     "name": "stdout",
     "output_type": "stream",
     "text": [
      "samsunggalaxy      0.341222\n",
      "iphonesentiment    1.000000\n",
      "Name: iphonesentiment, dtype: float64\n"
     ]
    }
   ],
   "source": [
    "# Correlation with the dependant\n",
    "corr = iphone.corr()\n",
    "\n",
    "cor_target = abs(corr[\"iphonesentiment\"]) # Selecting highly correlated features\n",
    "relevant_features = cor_target[cor_target > 0.3]\n",
    "\n",
    "print(relevant_features)"
   ]
  },
  {
   "cell_type": "markdown",
   "metadata": {},
   "source": [
    "## <a class=\"anchor\" id=\"NZV\"> 2.2. NZV </a>"
   ]
  },
  {
   "cell_type": "code",
   "execution_count": 9,
   "metadata": {},
   "outputs": [
    {
     "name": "stdout",
     "output_type": "stream",
     "text": [
      "(12973, 41)\n"
     ]
    }
   ],
   "source": [
    "# Remove columns with Near Zero Variance (NZV)\n",
    "# NOTE: This loses the column names\n",
    "constant_filter = VarianceThreshold(threshold=0.01) #For Zero Variance, choose 0\n",
    "constant_filter.fit(iphone)\n",
    "\n",
    "iphone.columns[constant_filter.get_support()]\n",
    "constant_columns = [column for column in iphone.columns\n",
    "                   if column not in iphone.columns[constant_filter.get_support()]]\n",
    "\n",
    "iphone = constant_filter.transform(iphone) #This overwrites our data with the NZV columns removed\n",
    "iphone = pd.DataFrame(iphone)\n",
    "\n",
    "print(iphone.shape) #This leaves us with 40 columns (from 44, after collinearity)"
   ]
  },
  {
   "cell_type": "markdown",
   "metadata": {},
   "source": [
    "## <a class=\"anchor\" id=\"Split\"> 2.3. Split Train & Test </a>"
   ]
  },
  {
   "cell_type": "code",
   "execution_count": 10,
   "metadata": {},
   "outputs": [
    {
     "data": {
      "text/plain": [
       "((10378, 40), (2595, 40), (10378,), (2595,))"
      ]
     },
     "execution_count": 10,
     "metadata": {},
     "output_type": "execute_result"
    }
   ],
   "source": [
    "#Defining Train & Label\n",
    "x = iphone.iloc[:,:-1] #Good practice to select all columns but the last one\n",
    "y = iphone.iloc[:,-1] #Good practice to get the last column\n",
    "\n",
    "x_train, x_test, y_train, y_test = train_test_split(x, y, train_size=0.8)\n",
    "x_train.shape, x_test.shape, y_train.shape, y_test.shape"
   ]
  },
  {
   "cell_type": "markdown",
   "metadata": {},
   "source": [
    "## <a class=\"anchor\" id=\"RFE\"> 2.4. RFE </a>"
   ]
  },
  {
   "cell_type": "code",
   "execution_count": 11,
   "metadata": {},
   "outputs": [
    {
     "name": "stdout",
     "output_type": "stream",
     "text": [
      "    Feature  Ranking\n",
      "0         0        1\n",
      "25       25        1\n",
      "24       24        1\n",
      "29       29        1\n",
      "21       21        1\n",
      "20       20        1\n",
      "33       33        1\n",
      "18       18        1\n",
      "17       17        1\n",
      "34       34        1\n",
      "15       15        1\n",
      "26       26        1\n",
      "28       28        1\n",
      "11       11        1\n",
      "8         8        1\n",
      "7         7        1\n",
      "4         4        1\n",
      "3         3        1\n",
      "2         2        1\n",
      "1         1        1\n",
      "14       14        2\n",
      "36       36        2\n",
      "37       37        3\n",
      "12       12        3\n",
      "13       13        3\n",
      "35       35        4\n",
      "5         5        4\n",
      "22       22        4\n",
      "39       39        5\n",
      "38       38        5\n",
      "27       27        5\n",
      "30       30        6\n",
      "32       32        6\n",
      "6         6        6\n",
      "23       23        7\n",
      "16       16        7\n",
      "9         9        7\n",
      "31       31        8\n",
      "10       10        8\n",
      "19       19        8\n"
     ]
    }
   ],
   "source": [
    "RF = RandomForestClassifier(n_estimators=50, max_depth=10, random_state=0)\n",
    "rfe = RFE(estimator=RF, step=3)\n",
    "rfe = rfe.fit(x_train, y_train)\n",
    "## print summaries for the selection of attributes\n",
    "selected_rfe = pd.DataFrame({'Feature': list(x_train.columns),'Ranking': rfe.ranking_})\n",
    "\n",
    "print(selected_rfe.sort_values(by='Ranking'))\n",
    "x_train = rfe.transform(x_train)\n",
    "x_test = rfe.transform(x_test)"
   ]
  },
  {
   "cell_type": "markdown",
   "metadata": {},
   "source": [
    "## <a class=\"anchor\" id=\"PCA\"> 2.5. Standardization & PCA </a>"
   ]
  },
  {
   "cell_type": "code",
   "execution_count": 12,
   "metadata": {},
   "outputs": [],
   "source": [
    "stand = MinMaxScaler().fit(x_train)\n",
    "x_train = stand.transform(x_train)\n",
    "pca = PCA(0.999)\n",
    "pca.fit(x_train)\n",
    "x_train = pd.DataFrame(pca.transform(x_train))\n",
    "#Test\n",
    "x_test = stand.transform(x_test)\n",
    "x_test = pd.DataFrame(pca.transform(x_test))"
   ]
  },
  {
   "cell_type": "markdown",
   "metadata": {},
   "source": [
    "# <a class=\"anchor\" id=\"Pred\"> 3. Predictions </a>"
   ]
  },
  {
   "cell_type": "code",
   "execution_count": 13,
   "metadata": {},
   "outputs": [
    {
     "name": "stdout",
     "output_type": "stream",
     "text": [
      "Accuracy: 0.8046242774566474\n",
      "Kappa: 0.49324546838005634\n",
      "              precision    recall  f1-score   support\n",
      "\n",
      "           1       0.77      0.38      0.51       445\n",
      "           2       0.33      0.01      0.03        73\n",
      "           3       0.65      0.58      0.61       232\n",
      "           4       0.82      0.97      0.89      1845\n",
      "\n",
      "    accuracy                           0.80      2595\n",
      "   macro avg       0.64      0.49      0.51      2595\n",
      "weighted avg       0.79      0.80      0.78      2595\n",
      "\n"
     ]
    },
    {
     "data": {
      "text/plain": [
       "array([[ 171,    1,   45,  228],\n",
       "       [   1,    1,    8,   63],\n",
       "       [   8,    0,  134,   90],\n",
       "       [  42,    1,   20, 1782]])"
      ]
     },
     "execution_count": 13,
     "metadata": {},
     "output_type": "execute_result"
    }
   ],
   "source": [
    "#RANDOM FOREST\n",
    "RF = RandomForestClassifier(n_estimators =100).fit(x_train,y_train)\n",
    "#print(cross_val_score(RF_B, x_train, y_train['galaxysentiment'], cv=10))\n",
    "\n",
    "#Predictions\n",
    "RF_pred = RF.predict(x_test)\n",
    "\n",
    "#Performance Metrics (Errors)\n",
    "print(\"Accuracy:\", accuracy_score(y_test, RF_pred)) \n",
    "print(\"Kappa:\", cohen_kappa_score(y_test, RF_pred)) \n",
    "print(classification_report(y_test, RF_pred))\n",
    "confusion_matrix(y_test, RF_pred)\n",
    "\n",
    "#Acc=0.74 w/o PCA & RFE\n",
    "#Kappa=0.48 w/o PCA & RFE\n",
    "#Acc=0.73 w\n",
    "#Kappa=.45 w"
   ]
  }
 ],
 "metadata": {
  "kernelspec": {
   "display_name": "Python 3",
   "language": "python",
   "name": "python3"
  },
  "language_info": {
   "codemirror_mode": {
    "name": "ipython",
    "version": 3
   },
   "file_extension": ".py",
   "mimetype": "text/x-python",
   "name": "python",
   "nbconvert_exporter": "python",
   "pygments_lexer": "ipython3",
   "version": "3.7.3"
  }
 },
 "nbformat": 4,
 "nbformat_minor": 2
}
